{
 "cells": [
  {
   "cell_type": "code",
   "execution_count": null,
   "metadata": {
    "notebookRunGroups": {
     "groupValue": "1"
    }
   },
   "outputs": [],
   "source": [
    "from torch.utils.data import DataLoader\n",
    "import torch\n",
    "\n",
    "from Classes.SignDataLoader import SignDataLoader\n",
    "from Classes.Imitator import Imitator\n",
    "from Classes.KeypointDataset import KeypointDataset\n",
    "from Classes.Tools import Tools\n",
    "\n",
    "import os"
   ]
  },
  {
   "cell_type": "code",
   "execution_count": null,
   "metadata": {},
   "outputs": [],
   "source": [
    "LOG = False"
   ]
  },
  {
   "cell_type": "markdown",
   "metadata": {},
   "source": [
    "# Training"
   ]
  },
  {
   "cell_type": "markdown",
   "metadata": {},
   "source": []
  },
  {
   "cell_type": "code",
   "execution_count": null,
   "metadata": {},
   "outputs": [],
   "source": [
    "tools = Tools()\n",
    "\n",
    "embedding_layer, tokenizer = tools.getLLM()\n",
    "vocab_size, d_model = embedding_layer.weight.size()\n",
    "\n",
    "print(f\"Vocab size: {vocab_size}, d_model: {d_model}\")\n",
    "\n",
    "DataPath = os.path.join(os.getcwd(), os.pardir, \"data\", \"dataset2\")\n",
    "ModelPath = os.path.join(os.getcwd(), \"model\")\n",
    "h5File = os.path.join(DataPath, \"keypoints.h5\")\n",
    "csvFile = os.path.join(DataPath, \"meta.csv\")\n",
    "\n",
    "# parameters\n",
    "modelParameters = {\n",
    "    \"model\": {\n",
    "        \"version\": 1,\n",
    "        \"checkpoint\": 1\n",
    "    },\n",
    "    \"input_size\": 543*2,\n",
    "    \"output_size\": 3072,\n",
    "    \"learning_rate\": 2e-4,\n",
    "    \"device\": \"cuda\" if torch.cuda.is_available() else \"cpu\",\n",
    "    \"epochs\": 1,\n",
    "    \"logIntervals\": 10,\n",
    "    \"checkpointIntervals\": 5,\n",
    "    \"batchSize\": 32,\n",
    "    \"frameClips\": 15 * 35,\n",
    "}"
   ]
  },
  {
   "cell_type": "code",
   "execution_count": null,
   "metadata": {},
   "outputs": [],
   "source": [
    "keypointReader = KeypointDataset(h5Path=h5File, labelsCSV=csvFile, max_seq_len=modelParameters[\"frameClips\"])\n",
    "dataset = SignDataLoader(tokenizer, embedding_layer, keypointReader, modelParameters[\"device\"])\n",
    "dataloader = DataLoader(dataset, batch_size=modelParameters[\"batchSize\"], shuffle=True, collate_fn=tools.collate_fn)"
   ]
  },
  {
   "cell_type": "code",
   "execution_count": null,
   "metadata": {},
   "outputs": [],
   "source": [
    "# model\n",
    "model = Imitator(input_size=modelParameters[\"input_size\"], output_size=modelParameters[\"output_size\"], d_model=d_model).to(modelParameters[\"device\"])\n",
    "print(model)"
   ]
  },
  {
   "cell_type": "code",
   "execution_count": null,
   "metadata": {},
   "outputs": [],
   "source": [
    "sort_by_keyword = 'cuda_time_total'\n",
    "\n",
    "tools.train(model, dataloader, epochs=modelParameters[\"epochs\"], log_interval=modelParameters[\"logIntervals\"], learning_rate=modelParameters[\"learning_rate\"], modelVersions=modelParameters[\"model\"], modelDir=ModelPath)"
   ]
  }
 ],
 "metadata": {
  "kernelspec": {
   "display_name": "Python 3",
   "language": "python",
   "name": "python3"
  },
  "language_info": {
   "codemirror_mode": {
    "name": "ipython",
    "version": 3
   },
   "file_extension": ".py",
   "mimetype": "text/x-python",
   "name": "python",
   "nbconvert_exporter": "python",
   "pygments_lexer": "ipython3",
   "version": "3.11.11"
  }
 },
 "nbformat": 4,
 "nbformat_minor": 2
}
