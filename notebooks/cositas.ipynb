{
 "cells": [
  {
   "cell_type": "code",
   "execution_count": 1,
   "id": "6b8c9f44",
   "metadata": {},
   "outputs": [
    {
     "name": "stdout",
     "output_type": "stream",
     "text": [
      "🦥 Unsloth: Will patch your computer to enable 2x faster free finetuning.\n"
     ]
    },
    {
     "name": "stderr",
     "output_type": "stream",
     "text": [
      "/home/giorgio6846/miniconda3/envs/Sign/lib/python3.11/site-packages/tqdm/auto.py:21: TqdmWarning: IProgress not found. Please update jupyter and ipywidgets. See https://ipywidgets.readthedocs.io/en/stable/user_install.html\n",
      "  from .autonotebook import tqdm as notebook_tqdm\n"
     ]
    },
    {
     "name": "stdout",
     "output_type": "stream",
     "text": [
      "🦥 Unsloth Zoo will now patch everything to make training faster!\n"
     ]
    }
   ],
   "source": [
    "import torch\n",
    "import torch.nn.functional as F\n",
    "from unsloth import FastLanguageModel\n",
    "from llama_cpp import Llama"
   ]
  },
  {
   "cell_type": "code",
   "execution_count": 2,
   "id": "7c5da90d",
   "metadata": {},
   "outputs": [
    {
     "name": "stderr",
     "output_type": "stream",
     "text": [
      "llama_context: n_ctx_per_seq (1024) < n_ctx_train (131072) -- the full capacity of the model will not be utilized\n",
      "llama_kv_cache_unified: LLAMA_SET_ROWS=0, using old ggml_cpy() method for backwards compatibility\n"
     ]
    }
   ],
   "source": [
    "path_model = \"/home/giorgio6846/Code/Sign-AI/local_models/Llama-3.2-3B-Instruct-GGUF/Llama-3.2-3B-Instruct-Q4_K_M.gguf\"\n",
    "model_cpp = Llama(model_path=path_model, n_ctx=1024, embedding=True, logits_all=True, verbose=False, n_gpu_layers=-1)"
   ]
  },
  {
   "cell_type": "code",
   "execution_count": 4,
   "id": "6661174a",
   "metadata": {},
   "outputs": [
    {
     "ename": "NotImplementedError",
     "evalue": "get_tensor is not implemented in llama.cpp",
     "output_type": "error",
     "traceback": [
      "\u001b[31m---------------------------------------------------------------------------\u001b[39m",
      "\u001b[31mNotImplementedError\u001b[39m                       Traceback (most recent call last)",
      "\u001b[36mCell\u001b[39m\u001b[36m \u001b[39m\u001b[32mIn[4]\u001b[39m\u001b[32m, line 1\u001b[39m\n\u001b[32m----> \u001b[39m\u001b[32m1\u001b[39m \u001b[43mmodel_cpp\u001b[49m\u001b[43m.\u001b[49m\u001b[43m_model\u001b[49m\u001b[43m.\u001b[49m\u001b[43mget_tensor\u001b[49m\u001b[43m(\u001b[49m\u001b[33;43m\"\u001b[39;49m\u001b[33;43mmodel.embed_tokens.weight\u001b[39;49m\u001b[33;43m\"\u001b[39;49m\u001b[43m)\u001b[49m\n",
      "\u001b[36mFile \u001b[39m\u001b[32m~/miniconda3/envs/Sign/lib/python3.11/site-packages/llama_cpp/_internals.py:115\u001b[39m, in \u001b[36mLlamaModel.get_tensor\u001b[39m\u001b[34m(self, name)\u001b[39m\n\u001b[32m    114\u001b[39m \u001b[38;5;28;01mdef\u001b[39;00m\u001b[38;5;250m \u001b[39m\u001b[34mget_tensor\u001b[39m(\u001b[38;5;28mself\u001b[39m, name: \u001b[38;5;28mstr\u001b[39m) -> ctypes.c_void_p:\n\u001b[32m--> \u001b[39m\u001b[32m115\u001b[39m     \u001b[38;5;28;01mraise\u001b[39;00m \u001b[38;5;167;01mNotImplementedError\u001b[39;00m(\u001b[33m\"\u001b[39m\u001b[33mget_tensor is not implemented in llama.cpp\u001b[39m\u001b[33m\"\u001b[39m)\n",
      "\u001b[31mNotImplementedError\u001b[39m: get_tensor is not implemented in llama.cpp"
     ]
    }
   ],
   "source": [
    "model_cpp._model.get_tensor(\"model.embed_tokens.weight\")"
   ]
  },
  {
   "cell_type": "code",
   "execution_count": 3,
   "id": "ed165919",
   "metadata": {},
   "outputs": [
    {
     "name": "stdout",
     "output_type": "stream",
     "text": [
      "==((====))==  Unsloth 2025.7.8: Fast Llama patching. Transformers: 4.53.2.\n",
      "   \\\\   /|    NVIDIA GeForce RTX 4060 Ti. Num GPUs = 1. Max memory: 15.576 GB. Platform: Linux.\n",
      "O^O/ \\_/ \\    Torch: 2.7.1+cu128. CUDA: 8.9. CUDA Toolkit: 12.8. Triton: 3.3.1\n",
      "\\        /    Bfloat16 = TRUE. FA [Xformers = 0.0.31.post1. FA2 = False]\n",
      " \"-____-\"     Free license: http://github.com/unslothai/unsloth\n",
      "Unsloth: Fast downloading is enabled - ignore downloading bars which are red colored!\n"
     ]
    }
   ],
   "source": [
    "model, tokenizer = FastLanguageModel.from_pretrained(\n",
    "    model_name=\"unsloth/Llama-3.2-3B-Instruct\",\n",
    "    max_seq_length=4096,\n",
    "    dtype=None,\n",
    "    load_in_4bit=True,\n",
    ")"
   ]
  },
  {
   "cell_type": "code",
   "execution_count": 4,
   "id": "738b35d5",
   "metadata": {},
   "outputs": [],
   "source": [
    "target = \"un texto normal como cualquiera\""
   ]
  },
  {
   "cell_type": "code",
   "execution_count": 8,
   "id": "364010fc",
   "metadata": {},
   "outputs": [],
   "source": [
    "embeddings_cpp = torch.tensor(model_cpp.embed(target))"
   ]
  },
  {
   "cell_type": "code",
   "execution_count": 9,
   "id": "cecf5754",
   "metadata": {},
   "outputs": [
    {
     "data": {
      "text/plain": [
       "torch.Size([8, 3072])"
      ]
     },
     "execution_count": 9,
     "metadata": {},
     "output_type": "execute_result"
    }
   ],
   "source": [
    "embeddings_cpp.shape"
   ]
  },
  {
   "cell_type": "code",
   "execution_count": 12,
   "id": "adf4296e",
   "metadata": {},
   "outputs": [
    {
     "data": {
      "text/plain": [
       "tensor([[[4.6253e-05, 3.3617e-05, 1.3855e-02,  ..., 1.2815e-06,\n",
       "          1.2815e-06, 1.2815e-06],\n",
       "         [1.6332e-05, 3.3677e-06, 4.7207e-05,  ..., 5.7742e-08,\n",
       "          5.7742e-08, 5.7742e-08],\n",
       "         [4.5300e-05, 1.5616e-05, 3.4869e-06,  ..., 1.3213e-08,\n",
       "          1.3213e-08, 1.3213e-08],\n",
       "         ...,\n",
       "         [6.5565e-07, 1.8254e-07, 1.8179e-06,  ..., 3.8999e-09,\n",
       "          3.8999e-09, 3.8999e-09],\n",
       "         [1.4727e-08, 1.2107e-07, 9.0897e-07,  ..., 3.1469e-10,\n",
       "          3.1469e-10, 3.1469e-10],\n",
       "         [6.0320e-05, 3.3975e-06, 3.0547e-06,  ..., 5.6170e-09,\n",
       "          5.6170e-09, 5.6170e-09]]], device='cuda:0', dtype=torch.bfloat16)"
      ]
     },
     "execution_count": 12,
     "metadata": {},
     "output_type": "execute_result"
    }
   ],
   "source": [
    "# Obtener los logits del modelo\n",
    "tokenize = tokenizer(target, return_tensors=\"pt\").to(\"cuda\")\n",
    "\n",
    "def get_logits(tokenize_input):\n",
    "    with torch.no_grad():\n",
    "        salidas = model(**tokenize_input)\n",
    "        logits = salidas.logits\n",
    "\n",
    "    log_probs = torch.nn.functional.softmax(logits, dim=-1)\n",
    "    return log_probs\n",
    "\n",
    "logits = get_logits(tokenize)\n",
    "logits"
   ]
  },
  {
   "cell_type": "code",
   "execution_count": 13,
   "id": "e3ee2297",
   "metadata": {},
   "outputs": [
    {
     "data": {
      "text/plain": [
       "tensor([[128000,    359,  33125,   4725,   8112,  28189,    447,  26919]],\n",
       "       device='cuda:0')"
      ]
     },
     "execution_count": 13,
     "metadata": {},
     "output_type": "execute_result"
    }
   ],
   "source": [
    "tokenize[\"input_ids\"]"
   ]
  },
  {
   "cell_type": "code",
   "execution_count": 14,
   "id": "4f2fba1c",
   "metadata": {},
   "outputs": [
    {
     "data": {
      "text/plain": [
       "torch.Size([1, 8, 128256])"
      ]
     },
     "execution_count": 14,
     "metadata": {},
     "output_type": "execute_result"
    }
   ],
   "source": [
    "logits.shape"
   ]
  },
  {
   "cell_type": "code",
   "execution_count": 10,
   "id": "3a22b961",
   "metadata": {},
   "outputs": [],
   "source": [
    "def embeddings_to_text_gpu(embeddings: torch.Tensor, model, tokenizer) -> str:\n",
    "    device = torch.device(\"cuda\" if torch.cuda.is_available() else \"cpu\")\n",
    "    \n",
    "    model.eval()\n",
    "\n",
    "    embeddings = embeddings.to(device)\n",
    "\n",
    "    embedding_layer = model.get_input_embeddings()\n",
    "    embedding_matrix = embedding_layer.weight.to(device)  # [vocab_size, hidden_dim]\n",
    "\n",
    "    embedding_matrix_norm = F.normalize(embedding_matrix, p=2, dim=1)  # [V, D]\n",
    "    print(embedding_matrix_norm.shape)\n",
    "\n",
    "    embeddings_norm = F.normalize(embeddings, p=2, dim=1)  # [T, D]\n",
    "\n",
    "    similarities = torch.matmul(embeddings_norm, embedding_matrix_norm.T)  # [T, V]\n",
    "\n",
    "    token_ids = torch.argmax(similarities, dim=1).tolist()\n",
    "    print(token_ids)\n",
    "\n",
    "    return tokenizer.decode(token_ids, skip_special_tokens=True)"
   ]
  },
  {
   "cell_type": "code",
   "execution_count": 19,
   "id": "6a883945",
   "metadata": {},
   "outputs": [],
   "source": [
    "embeddings_cpp = embeddings_cpp.to(dtype=torch.bfloat16)"
   ]
  },
  {
   "cell_type": "code",
   "execution_count": 20,
   "id": "29c09086",
   "metadata": {},
   "outputs": [
    {
     "name": "stdout",
     "output_type": "stream",
     "text": [
      "torch.Size([8, 3072]) torch.bfloat16\n",
      "torch.Size([8, 3072]) torch.bfloat16\n",
      "torch.Size([128256, 3072])\n",
      "[791, 1639, 15482, 271, 10566, 447, 26919, 11158]\n",
      "Theited sobre\n",
      "\n",
      " estequiera más\n"
     ]
    }
   ],
   "source": [
    "input_ids = tokenize[\"input_ids\"].to(\"cuda\")\n",
    "\n",
    "with torch.no_grad():\n",
    "    embeddings = model.get_input_embeddings()(input_ids[0])  # [T, D]\n",
    "    print(embeddings.shape, embeddings.dtype)\n",
    "    print(embeddings_cpp.shape, embeddings_cpp.dtype)\n",
    "decoded_text = embeddings_to_text_gpu(embeddings_cpp, model, tokenizer)\n",
    "print(decoded_text)"
   ]
  }
 ],
 "metadata": {
  "kernelspec": {
   "display_name": "Sign",
   "language": "python",
   "name": "python3"
  },
  "language_info": {
   "codemirror_mode": {
    "name": "ipython",
    "version": 3
   },
   "file_extension": ".py",
   "mimetype": "text/x-python",
   "name": "python",
   "nbconvert_exporter": "python",
   "pygments_lexer": "ipython3",
   "version": "3.11.11"
  }
 },
 "nbformat": 4,
 "nbformat_minor": 5
}
