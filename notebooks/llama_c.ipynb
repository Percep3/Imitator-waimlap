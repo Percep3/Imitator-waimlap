{
 "cells": [
  {
   "cell_type": "code",
   "execution_count": 1,
   "id": "4b4a0b3b",
   "metadata": {},
   "outputs": [],
   "source": [
    "import torch\n",
    "from llama_cpp import Llama"
   ]
  },
  {
   "cell_type": "code",
   "execution_count": 6,
   "id": "b7640baf",
   "metadata": {},
   "outputs": [],
   "source": [
    "import gguf\n",
    "import numpy as np\n",
    "\n",
    "def load_embedding_weights_from_gguf(model_path):\n",
    "    \"\"\"\n",
    "    Carga los pesos del embedding directamente desde un archivo GGUF.\n",
    "\n",
    "    Args:\n",
    "        model_path (str): Ruta al archivo .gguf del modelo.\n",
    "\n",
    "    Returns:\n",
    "        numpy.ndarray: Un array 2D con los pesos del embedding (vocab_size, embedding_dim).\n",
    "                       Retorna None si no se encuentra el tensor.\n",
    "    \"\"\"\n",
    "    try:\n",
    "        # 1. Cargar el archivo GGUF\n",
    "        reader = gguf.GGUFReader(model_path, 'r')\n",
    "\n",
    "        # 2. Iterar por los tensores para encontrar el de embedding\n",
    "        # El nombre puede variar, pero suele ser 'token_embd.weight'\n",
    "        embedding_tensor_name = 'token_embd.weight' # Nombre común\n",
    "        found_tensor = None\n",
    "\n",
    "        for tensor in reader.tensors:\n",
    "            if tensor.name == embedding_tensor_name:\n",
    "                print(f\"Tensor encontrado: {tensor.name}, Shape: {tensor.shape}, Tipo: {tensor.tensor_type}\")\n",
    "                found_tensor = tensor\n",
    "                break\n",
    "        else:\n",
    "            raise ValueError(f\"No se encontró el tensor de embedding con el nombre '{embedding_tensor_name}' en {model_path}\")\n",
    "\n",
    "        # 3. Extraer los datos\n",
    "        # gguf.Reader nos da los datos ya deserializados y descuantizados (si es necesario)\n",
    "        # como un numpy array. El acceso es mediante found_tensor.data\n",
    "        print(found_tensor)\n",
    "        embedding_weights = found_tensor.data\n",
    "        print(embedding_weights[0])\n",
    "\n",
    "        # Asegurarse de que es un array 2D\n",
    "        # La forma típica es (n_vocab, n_embd) en el archivo,\n",
    "        # aunque internamente ggml/gguf puede almacenarlo transpuesto.\n",
    "        # gguf.Reader debería manejar esto y devolver la forma correcta.\n",
    "        # Verifica la forma:\n",
    "        print(f\"Pesos del embedding cargados. Shape: {embedding_weights.shape}, Dtype: {embedding_weights.dtype}\")\n",
    "\n",
    "        return embedding_weights\n",
    "\n",
    "    except FileNotFoundError:\n",
    "        print(f\"Error: No se pudo encontrar el archivo {model_path}\")\n",
    "    except Exception as e:\n",
    "        print(f\"Error al cargar el archivo GGUF: {e}\")\n",
    "        import traceback\n",
    "        traceback.print_exc()\n",
    "    return None"
   ]
  },
  {
   "cell_type": "code",
   "execution_count": 7,
   "id": "e29a6011",
   "metadata": {},
   "outputs": [
    {
     "name": "stdout",
     "output_type": "stream",
     "text": [
      "Tensor encontrado: token_embd.weight, Shape: [  3072 128256], Tipo: 14\n",
      "ReaderTensor(name='token_embd.weight', tensor_type=<GGMLQuantizationType.Q6_K: 14>, shape=memmap([  3072, 128256], dtype=uint64), n_elements=394002432, n_bytes=323205120, data_offset=7850432, data=memmap([[129,  67,  45, ...,  77, 204,   0],\n",
      "        [253,  96, 224, ..., 181,   4,   1],\n",
      "        [170, 154, 208, ..., 100, 228, 128],\n",
      "        ...,\n",
      "        [ 20,  45, 233, ..., 238,  45, 130],\n",
      "        [ 20,  45, 233, ..., 238,  45, 130],\n",
      "        [ 20,  45, 233, ..., 238,  45, 130]],\n",
      "       shape=(128256, 2520), dtype=uint8), field=ReaderField(offset=7822856, name='token_embd.weight', parts=[memmap([17], dtype=uint64), memmap([116, 111, 107, 101, 110,  95, 101, 109,  98, 100,  46, 119, 101,\n",
      "        105, 103, 104, 116], dtype=uint8), memmap([2], dtype=uint32), memmap([  3072, 128256], dtype=uint64), memmap([14], dtype=uint32), memmap([12544], dtype=uint64)], data=[1, 3, 4, 5], types=[]))\n",
      "[129  67  45 ...  77 204   0]\n",
      "Pesos del embedding cargados. Shape: (128256, 2520), Dtype: uint8\n",
      "Shape final: (128256, 2520)\n"
     ]
    }
   ],
   "source": [
    "# --- Ejemplo de uso ---\n",
    "model_path = \"/home/giorgio6846/Code/Sign-AI/local_models/Llama-3.2-3B-Instruct-GGUF/Llama-3.2-3B-Instruct-Q4_K_M.gguf\"\n",
    "embedding_weights = load_embedding_weights_from_gguf(model_path)\n",
    "#\n",
    "if embedding_weights is not None:\n",
    "    print(f\"Shape final: {embedding_weights.shape}\")\n",
    "else:\n",
    "    print(\"No se pudieron cargar los pesos del embedding.\")\n"
   ]
  },
  {
   "cell_type": "code",
   "execution_count": 4,
   "id": "845e1d99",
   "metadata": {},
   "outputs": [
    {
     "name": "stderr",
     "output_type": "stream",
     "text": [
      "llama_context: n_ctx_per_seq (1024) < n_ctx_train (131072) -- the full capacity of the model will not be utilized\n",
      "llama_kv_cache_unified: LLAMA_SET_ROWS=0, using old ggml_cpy() method for backwards compatibility\n"
     ]
    }
   ],
   "source": [
    "path_model = \"/home/giorgio6846/Code/Sign-AI/local_models/Llama-3.2-3B-Instruct-GGUF/Llama-3.2-3B-Instruct-Q4_K_M.gguf\"\n",
    "model_cpp = Llama(model_path=path_model, n_ctx=1024, embedding=True, logits_all=True, verbose=False,) #n_gpu_layers=-1)"
   ]
  },
  {
   "cell_type": "code",
   "execution_count": 9,
   "id": "61d6e88c",
   "metadata": {},
   "outputs": [
    {
     "data": {
      "text/plain": [
       "torch.Size([8, 3072])"
      ]
     },
     "execution_count": 9,
     "metadata": {},
     "output_type": "execute_result"
    }
   ],
   "source": [
    "target = \"un texto normal como cualquiera\"\n",
    "embeddings_cpp = torch.tensor(model_cpp.embed(target))\n",
    "embeddings_cpp.shape"
   ]
  },
  {
   "cell_type": "code",
   "execution_count": null,
   "id": "3eb8362c",
   "metadata": {},
   "outputs": [],
   "source": []
  }
 ],
 "metadata": {
  "kernelspec": {
   "display_name": "Sign",
   "language": "python",
   "name": "python3"
  },
  "language_info": {
   "codemirror_mode": {
    "name": "ipython",
    "version": 3
   },
   "file_extension": ".py",
   "mimetype": "text/x-python",
   "name": "python",
   "nbconvert_exporter": "python",
   "pygments_lexer": "ipython3",
   "version": "3.11.11"
  }
 },
 "nbformat": 4,
 "nbformat_minor": 5
}
