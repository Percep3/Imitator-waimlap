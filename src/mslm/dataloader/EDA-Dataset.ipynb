{
 "cells": [
  {
   "cell_type": "code",
   "execution_count": 1,
   "id": "2ae65ae2",
   "metadata": {},
   "outputs": [
    {
     "name": "stdout",
     "output_type": "stream",
     "text": [
      "/home/giorgio6846/Code/Sign-AI/Sign-Giorgio\n"
     ]
    }
   ],
   "source": [
    "import sys\n",
    "import os\n",
    "\n",
    "#path_src = os.path.join(os.path.dirname(os.path.abspath(os.getcwd())))\n",
    "path_src = os.path.dirname(os.path.dirname(os.path.dirname(os.getcwd())))\n",
    "print(path_src)\n",
    "\n",
    "sys.path.append(path_src)\n",
    "os.chdir(path_src)"
   ]
  },
  {
   "cell_type": "code",
   "execution_count": 2,
   "id": "29224fdf",
   "metadata": {},
   "outputs": [
    {
     "name": "stderr",
     "output_type": "stream",
     "text": [
      "/home/giorgio6846/miniconda3/envs/Sign/lib/python3.11/site-packages/tqdm/auto.py:21: TqdmWarning: IProgress not found. Please update jupyter and ipywidgets. See https://ipywidgets.readthedocs.io/en/stable/user_install.html\n",
      "  from .autonotebook import tqdm as notebook_tqdm\n"
     ]
    }
   ],
   "source": [
    "from src.mslm.dataloader.keypoint_dataset import KeypointDataset\n",
    "import matplotlib.pyplot as plt\n",
    "from matplotlib.animation import FuncAnimation\n",
    "from IPython.display import HTML\n",
    "from tqdm import tqdm\n",
    "import torch\n",
    "import numpy as np"
   ]
  },
  {
   "cell_type": "code",
   "execution_count": 3,
   "id": "fd12692e",
   "metadata": {},
   "outputs": [],
   "source": [
    "datasetPath = \"/home/giorgio6846/Code/Sign-AI/data/processed/dataset_v5.hdf5\"\n",
    "kd = KeypointDataset(datasetPath, return_label=True, max_length=20000000000)\n"
   ]
  },
  {
   "cell_type": "code",
   "execution_count": 4,
   "id": "47fa2cf5",
   "metadata": {},
   "outputs": [],
   "source": [
    "import h5py\n",
    "import matplotlib.pyplot as plt\n",
    "\n",
    "#with h5py.File(datasetPath, \"r\") as f:\n",
    "#    first_clip = list(f.keys())[0]\n",
    "#    sample = list(f[first_clip][\"keypoints\"].values())[0][:]\n",
    "#    print(\"Shape:\", sample.shape)\n"
   ]
  },
  {
   "cell_type": "code",
   "execution_count": 5,
   "id": "990361c1",
   "metadata": {},
   "outputs": [
    {
     "ename": "NameError",
     "evalue": "name 'sample' is not defined",
     "output_type": "error",
     "traceback": [
      "\u001b[31m---------------------------------------------------------------------------\u001b[39m",
      "\u001b[31mNameError\u001b[39m                                 Traceback (most recent call last)",
      "\u001b[36mCell\u001b[39m\u001b[36m \u001b[39m\u001b[32mIn[5]\u001b[39m\u001b[32m, line 20\u001b[39m\n\u001b[32m     17\u001b[39m     plt.axis(\u001b[33m'\u001b[39m\u001b[33mequal\u001b[39m\u001b[33m'\u001b[39m)\n\u001b[32m     18\u001b[39m     plt.show()\n\u001b[32m---> \u001b[39m\u001b[32m20\u001b[39m plot_keypoints(\u001b[43msample\u001b[49m[\u001b[32m0\u001b[39m], \u001b[33m\"\u001b[39m\u001b[33mSample Keypoints\u001b[39m\u001b[33m\"\u001b[39m)\n",
      "\u001b[31mNameError\u001b[39m: name 'sample' is not defined"
     ]
    }
   ],
   "source": [
    "import matplotlib.pyplot as plt\n",
    "\n",
    "def plot_keypoints(frame, title=\"Frame Keypoints\"):\n",
    "    frame = torch.as_tensor(frame, dtype=torch.float32)\n",
    "    x = frame[:, 0]\n",
    "    y = -frame[:, 1]  # invertir para que se vea con orientación humana\n",
    "\n",
    "    plt.figure(figsize=(6, 6))\n",
    "    plt.scatter(x[:14], y[:14], c='r', label='Cuerpo')\n",
    "    plt.scatter(x[14:82], y[14:82], c='gray', s=5, label='Cara parcial')\n",
    "    plt.scatter(x[82:103], y[82:103], c='g', label='Mano izq')\n",
    "    plt.scatter(x[103:124], y[103:124], c='b', label='Mano der')\n",
    "\n",
    "    plt.title(title)\n",
    "    plt.legend()\n",
    "    plt.grid(True)\n",
    "    plt.axis('equal')\n",
    "    plt.show()\n",
    "\n",
    "plot_keypoints(sample[0], \"Sample Keypoints\")"
   ]
  },
  {
   "cell_type": "code",
   "execution_count": null,
   "id": "052bbe8d",
   "metadata": {},
   "outputs": [
    {
     "ename": "AttributeError",
     "evalue": "'numpy.ndarray' object has no attribute 'index_select'",
     "output_type": "error",
     "traceback": [
      "\u001b[31m---------------------------------------------------------------------------\u001b[39m",
      "\u001b[31mAttributeError\u001b[39m                            Traceback (most recent call last)",
      "\u001b[36mCell\u001b[39m\u001b[36m \u001b[39m\u001b[32mIn[27]\u001b[39m\u001b[32m, line 35\u001b[39m\n\u001b[32m     31\u001b[39m     html = HTML(ani.to_jshtml())\n\u001b[32m     32\u001b[39m     \u001b[38;5;28;01mreturn\u001b[39;00m html\n\u001b[32m---> \u001b[39m\u001b[32m35\u001b[39m animate_keypoints(\u001b[43mkd\u001b[49m\u001b[43m[\u001b[49m\u001b[32;43m0\u001b[39;49m\u001b[43m]\u001b[49m[\u001b[32m0\u001b[39m], interval=\u001b[32m100\u001b[39m)\n",
      "\u001b[36mFile \u001b[39m\u001b[32m~/Code/Sign-AI/Sign-Giorgio/src/mslm/dataloader/keypoint_dataset.py:142\u001b[39m, in \u001b[36mKeypointDataset.__getitem__\u001b[39m\u001b[34m(self, idx)\u001b[39m\n\u001b[32m    139\u001b[39m     \u001b[38;5;28;01mif\u001b[39;00m \u001b[38;5;28mself\u001b[39m.return_label:\n\u001b[32m    140\u001b[39m         label = f[mapped_idx[\u001b[32m0\u001b[39m]][\u001b[33m\"\u001b[39m\u001b[33mlabels\u001b[39m\u001b[33m\"\u001b[39m][mapped_idx[\u001b[32m1\u001b[39m]][:][\u001b[32m0\u001b[39m].decode()\n\u001b[32m--> \u001b[39m\u001b[32m142\u001b[39m keypoint = \u001b[38;5;28;43mself\u001b[39;49m\u001b[43m.\u001b[49m\u001b[43mremoveKeypoints\u001b[49m\u001b[43m(\u001b[49m\u001b[43mkeypoint\u001b[49m\u001b[43m)\u001b[49m\n\u001b[32m    143\u001b[39m keypoint = normalize_augment_data(keypoint, \u001b[33m\"\u001b[39m\u001b[33mOriginal\u001b[39m\u001b[33m\"\u001b[39m, \u001b[38;5;28mself\u001b[39m.n_keypoints)\n\u001b[32m    145\u001b[39m \u001b[38;5;28;01mif\u001b[39;00m \u001b[38;5;129;01mnot\u001b[39;00m \u001b[38;5;28misinstance\u001b[39m(embedding, torch.Tensor):\n",
      "\u001b[36mFile \u001b[39m\u001b[32m~/Code/Sign-AI/Sign-Giorgio/src/mslm/dataloader/keypoint_dataset.py:125\u001b[39m, in \u001b[36mKeypointDataset.removeKeypoints\u001b[39m\u001b[34m(self, keypoint)\u001b[39m\n\u001b[32m    116\u001b[39m \u001b[38;5;66;03m# build full index list: Pose (filtered) + Face + HandL + HandR\u001b[39;00m\n\u001b[32m    117\u001b[39m indices = torch.tensor(\n\u001b[32m    118\u001b[39m     pose_keep\n\u001b[32m    119\u001b[39m     + \u001b[38;5;28mlist\u001b[39m(\u001b[38;5;28mrange\u001b[39m(\u001b[32m24\u001b[39m, \u001b[32m92\u001b[39m))    \u001b[38;5;66;03m# Face: 68 points\u001b[39;00m\n\u001b[32m   (...)\u001b[39m\u001b[32m    122\u001b[39m     dtype=torch.long\n\u001b[32m    123\u001b[39m )  \u001b[38;5;66;03m# total length = 14 + 68 + 21 + 21 = 124\u001b[39;00m\n\u001b[32m--> \u001b[39m\u001b[32m125\u001b[39m selected = \u001b[43mkeypoints\u001b[49m\u001b[43m.\u001b[49m\u001b[43mindex_select\u001b[49m(dim=\u001b[32m0\u001b[39m, index=indices)\n\u001b[32m    127\u001b[39m \u001b[38;5;28;01mreturn\u001b[39;00m selected\n",
      "\u001b[31mAttributeError\u001b[39m: 'numpy.ndarray' object has no attribute 'index_select'"
     ]
    }
   ],
   "source": [
    "import matplotlib.pyplot as plt\n",
    "import matplotlib.animation as animation\n",
    "import torch\n",
    "\n",
    "def animate_keypoints(frame, interval=50):\n",
    "    \"\"\"\n",
    "    Muestra los keypoints uno por uno con su índice.\n",
    "    \"\"\"\n",
    "    frame = torch.as_tensor(frame, dtype=torch.float32)\n",
    "    x = frame[:, 0].numpy()\n",
    "    y = -frame[:, 1].numpy()  # invertimos eje Y para que parezca humano\n",
    "\n",
    "    fig, ax = plt.subplots(figsize=(6, 6))\n",
    "    scat = ax.scatter([], [], s=20)\n",
    "    text = ax.text(0.05, 0.95, '', transform=ax.transAxes)\n",
    "    ax.set_xlim(x.min() - 50, x.max() + 50)\n",
    "    ax.set_ylim(y.min() - 50, y.max() + 50)\n",
    "    ax.set_title(\"Keypoints por índice\")\n",
    "    ax.grid(True)\n",
    "\n",
    "    coords = []\n",
    "\n",
    "    def update(i):\n",
    "        coords.append((x[i], y[i]))\n",
    "        xs, ys = zip(*coords)\n",
    "        scat.set_offsets(torch.tensor(coords))\n",
    "        text.set_text(f'Keypoint #{i}')\n",
    "        return scat, text\n",
    "\n",
    "    ani = animation.FuncAnimation(fig, update, frames=len(x), interval=interval, repeat=False)\n",
    "    html = HTML(ani.to_jshtml())\n",
    "    return html\n",
    "\n",
    "\n",
    "animate_keypoints(kd[0][0], interval=100)\n"
   ]
  },
  {
   "cell_type": "markdown",
   "id": "d714b730",
   "metadata": {},
   "source": [
    "Hypo keypoints:\n",
    "\n",
    "0: ref. cara\n",
    "1: ref cuello\n",
    "2: ref\n"
   ]
  },
  {
   "cell_type": "code",
   "execution_count": null,
   "id": "cd55aee1",
   "metadata": {},
   "outputs": [
    {
     "data": {
      "text/plain": [
       "12577"
      ]
     },
     "execution_count": 13,
     "metadata": {},
     "output_type": "execute_result"
    }
   ],
   "source": [
    "len(kd)"
   ]
  },
  {
   "cell_type": "markdown",
   "id": "f4fdb8bc",
   "metadata": {},
   "source": [
    "---"
   ]
  },
  {
   "cell_type": "code",
   "execution_count": null,
   "id": "c313dd71",
   "metadata": {},
   "outputs": [
    {
     "name": "stderr",
     "output_type": "stream",
     "text": [
      "Analizando longitudes:   0%|          | 0/12577 [00:00<?, ?it/s]\n"
     ]
    },
    {
     "ename": "AttributeError",
     "evalue": "'numpy.ndarray' object has no attribute 'index_select'",
     "output_type": "error",
     "traceback": [
      "\u001b[31m---------------------------------------------------------------------------\u001b[39m",
      "\u001b[31mAttributeError\u001b[39m                            Traceback (most recent call last)",
      "\u001b[36mCell\u001b[39m\u001b[36m \u001b[39m\u001b[32mIn[14]\u001b[39m\u001b[32m, line 6\u001b[39m\n\u001b[32m      3\u001b[39m lengths = []\n\u001b[32m      5\u001b[39m \u001b[38;5;28;01mfor\u001b[39;00m idx \u001b[38;5;129;01min\u001b[39;00m tqdm(\u001b[38;5;28mrange\u001b[39m(\u001b[38;5;28mlen\u001b[39m(kd)), desc=\u001b[33m\"\u001b[39m\u001b[33mAnalizando longitudes\u001b[39m\u001b[33m\"\u001b[39m):\n\u001b[32m----> \u001b[39m\u001b[32m6\u001b[39m     keypoints_frames = \u001b[43mkd\u001b[49m\u001b[43m[\u001b[49m\u001b[43midx\u001b[49m\u001b[43m]\u001b[49m[\u001b[32m0\u001b[39m].shape[\u001b[32m0\u001b[39m]  \u001b[38;5;66;03m# cantidad de frames\u001b[39;00m\n\u001b[32m      7\u001b[39m     lengths.append(keypoints_frames)\n\u001b[32m      8\u001b[39m     minValue = \u001b[38;5;28mmin\u001b[39m(keypoints_frames, minValue)\n",
      "\u001b[36mFile \u001b[39m\u001b[32m~/Code/Sign-AI/Sign-Giorgio/src/mslm/dataloader/keypoint_dataset.py:142\u001b[39m, in \u001b[36mKeypointDataset.__getitem__\u001b[39m\u001b[34m(self, idx)\u001b[39m\n\u001b[32m    139\u001b[39m     \u001b[38;5;28;01mif\u001b[39;00m \u001b[38;5;28mself\u001b[39m.return_label:\n\u001b[32m    140\u001b[39m         label = f[mapped_idx[\u001b[32m0\u001b[39m]][\u001b[33m\"\u001b[39m\u001b[33mlabels\u001b[39m\u001b[33m\"\u001b[39m][mapped_idx[\u001b[32m1\u001b[39m]][:][\u001b[32m0\u001b[39m].decode()\n\u001b[32m--> \u001b[39m\u001b[32m142\u001b[39m keypoint = \u001b[38;5;28;43mself\u001b[39;49m\u001b[43m.\u001b[49m\u001b[43mremoveKeypoints\u001b[49m\u001b[43m(\u001b[49m\u001b[43mkeypoint\u001b[49m\u001b[43m)\u001b[49m\n\u001b[32m    143\u001b[39m keypoint = normalize_augment_data(keypoint, \u001b[33m\"\u001b[39m\u001b[33mOriginal\u001b[39m\u001b[33m\"\u001b[39m, \u001b[38;5;28mself\u001b[39m.n_keypoints)\n\u001b[32m    145\u001b[39m \u001b[38;5;28;01mif\u001b[39;00m \u001b[38;5;129;01mnot\u001b[39;00m \u001b[38;5;28misinstance\u001b[39m(embedding, torch.Tensor):\n",
      "\u001b[36mFile \u001b[39m\u001b[32m~/Code/Sign-AI/Sign-Giorgio/src/mslm/dataloader/keypoint_dataset.py:125\u001b[39m, in \u001b[36mKeypointDataset.removeKeypoints\u001b[39m\u001b[34m(self, keypoint)\u001b[39m\n\u001b[32m    116\u001b[39m \u001b[38;5;66;03m# build full index list: Pose (filtered) + Face + HandL + HandR\u001b[39;00m\n\u001b[32m    117\u001b[39m indices = torch.tensor(\n\u001b[32m    118\u001b[39m     pose_keep\n\u001b[32m    119\u001b[39m     + \u001b[38;5;28mlist\u001b[39m(\u001b[38;5;28mrange\u001b[39m(\u001b[32m24\u001b[39m, \u001b[32m92\u001b[39m))    \u001b[38;5;66;03m# Face: 68 points\u001b[39;00m\n\u001b[32m   (...)\u001b[39m\u001b[32m    122\u001b[39m     dtype=torch.long\n\u001b[32m    123\u001b[39m )  \u001b[38;5;66;03m# total length = 14 + 68 + 21 + 21 = 124\u001b[39;00m\n\u001b[32m--> \u001b[39m\u001b[32m125\u001b[39m selected = \u001b[43mkeypoints\u001b[49m\u001b[43m.\u001b[49m\u001b[43mindex_select\u001b[49m(dim=\u001b[32m0\u001b[39m, index=indices)\n\u001b[32m    127\u001b[39m \u001b[38;5;28;01mreturn\u001b[39;00m selected\n",
      "\u001b[31mAttributeError\u001b[39m: 'numpy.ndarray' object has no attribute 'index_select'"
     ]
    }
   ],
   "source": [
    "minValue = float('inf')\n",
    "maxValue = float('-inf')\n",
    "lengths = []\n",
    "\n",
    "for idx in tqdm(range(len(kd)), desc=\"Analizando longitudes\"):\n",
    "    keypoints_frames = kd[idx][0].shape[0]  # cantidad de frames\n",
    "    lengths.append(keypoints_frames)\n",
    "    minValue = min(keypoints_frames, minValue)\n",
    "    maxValue = max(keypoints_frames, maxValue)\n",
    "\n",
    "print(f\"Min length: {minValue} frames\")\n",
    "print(f\"Max length: {maxValue} frames\")\n",
    "print(f\"Promedio: {sum(lengths)/len(lengths):.2f} frames\")\n"
   ]
  },
  {
   "cell_type": "code",
   "execution_count": null,
   "id": "195b0752",
   "metadata": {},
   "outputs": [],
   "source": [
    "\n",
    "plt.hist(lengths, bins=30)\n",
    "plt.title(\"Distribución de longitudes de secuencia\")\n",
    "plt.xlabel(\"Frames por muestra\")\n",
    "plt.ylabel(\"Frecuencia\")\n",
    "plt.show()\n"
   ]
  },
  {
   "cell_type": "code",
   "execution_count": null,
   "id": "b132c639",
   "metadata": {},
   "outputs": [],
   "source": [
    "# Percentil 95 para decidir max_seq_len sin truncar tanto\n",
    "p95 = int(np.percentile(lengths, 95))\n",
    "print(f\"Sugerencia: usar max_seq_len = {p95} cubre el 95% de los clips\")\n",
    "\n",
    "# Visualización\n",
    "plt.hist(lengths, bins=30, color='skyblue', edgecolor='black')\n",
    "plt.axvline(p95, color='red', linestyle='--', label=f'95% ≤ {p95}')\n",
    "plt.title(\"Distribución de longitudes de secuencia\")\n",
    "plt.xlabel(\"Frames por muestra\")\n",
    "plt.ylabel(\"Frecuencia\")\n",
    "plt.legend()\n",
    "plt.grid(True)\n",
    "plt.tight_layout()\n",
    "plt.show()"
   ]
  },
  {
   "cell_type": "markdown",
   "id": "6c485ff9",
   "metadata": {},
   "source": [
    "---"
   ]
  },
  {
   "cell_type": "code",
   "execution_count": null,
   "id": "75e54208",
   "metadata": {},
   "outputs": [],
   "source": [
    "keypoints = kd[4000][0].clone()\n",
    "keypoints.shape\n",
    "\n"
   ]
  },
  {
   "cell_type": "code",
   "execution_count": null,
   "id": "c30ea060",
   "metadata": {},
   "outputs": [],
   "source": [
    "def filter_keypoints_preserve_indices(keypoints, keep_n=230, preserve_idx=None):\n",
    "    \"\"\"\n",
    "    Filtra keypoints por varianza temporal, preservando algunos índices.\n",
    "\n",
    "    Args:\n",
    "        keypoints: Tensor (T, N, 2)\n",
    "        keep_n: número total de keypoints que quieres conservar\n",
    "        preserve_idx: lista de índices que siempre deben conservarse (ej. manos, rostro)\n",
    "\n",
    "    Returns:\n",
    "        filtered: Tensor (T, N, 2) con puntos fuera de la máscara puestos en 0\n",
    "        final_mask: Tensor (N,) booleano indicando puntos válidos\n",
    "    \"\"\"\n",
    "    T, N, _ = keypoints.shape\n",
    "    if preserve_idx is None:\n",
    "        preserve_idx = []\n",
    "\n",
    "    # Calcula varianza por keypoint (temporalmente)\n",
    "    var = keypoints.var(dim=0).mean(dim=1)  # (N,)\n",
    "\n",
    "    # Los que ya están preservados\n",
    "    preserve_mask = torch.zeros(N, dtype=torch.bool)\n",
    "    preserve_mask[preserve_idx] = True\n",
    "\n",
    "    # De los que NO están preservados, ordena por varianza\n",
    "    num_to_select = max(keep_n - len(preserve_idx), 0)\n",
    "    rest_idx = [i for i in range(N) if i not in preserve_idx]\n",
    "    rest_var = var[rest_idx]\n",
    "    _, top_rest_idx = torch.topk(-rest_var, k=num_to_select)  # -var para menor varianza\n",
    "    selected_rest = [rest_idx[i.item()] for i in top_rest_idx]\n",
    "\n",
    "    # Unión de preservados + seleccionados\n",
    "    final_mask = torch.zeros(N, dtype=torch.bool)\n",
    "    final_mask[preserve_idx] = True\n",
    "    final_mask[selected_rest] = True\n",
    "\n",
    "    # Aplicar la máscara\n",
    "    filtered = keypoints.clone()\n",
    "    for i in range(N):\n",
    "        if not final_mask[i]:\n",
    "            filtered[:, i] = 0\n",
    "\n",
    "    return filtered, final_mask\n"
   ]
  },
  {
   "cell_type": "code",
   "execution_count": null,
   "id": "b334bc96",
   "metadata": {},
   "outputs": [],
   "source": [
    "f_keypoint = filter_keypoints_preserve_indices(keypoints,)\n",
    "\n",
    "f_keypoint = keypoints"
   ]
  },
  {
   "cell_type": "code",
   "execution_count": null,
   "id": "87b546e0",
   "metadata": {},
   "outputs": [],
   "source": [
    "fig, ax = plt.subplots(1, 2, figsize=(10, 5))  # ax será ahora un array con 2 elementos\n",
    "ax[0].set_title('Keypoints Originales')\n",
    "ax[1].set_title('Keypoints Filtrados')\n",
    "\n",
    "sc1 = ax[0].scatter(keypoints[0, :, 0], keypoints[0, :, 1], s=10, c='blue', alpha=0.5)\n",
    "sc2 = ax[1].scatter(f_keypoint[0, :, 0], f_keypoint[0, :, 1], s=10, c='red', alpha=0.5)\n",
    "for a in ax:\n",
    "    #ax.set_xlim(0, 1)\n",
    "    #ax.set_ylim(0, 1)\n",
    "    a.grid(True)\n",
    "    a.set_aspect('equal')\n",
    "    a.invert_yaxis()  # Invertir eje Y para que coincida con la convención de coordenadas"
   ]
  },
  {
   "cell_type": "code",
   "execution_count": null,
   "id": "6aacd25f",
   "metadata": {},
   "outputs": [],
   "source": [
    "def update(frame):\n",
    "    points = keypoints[frame]\n",
    "    filtered_points = f_keypoint[frame]\n",
    "    sc1.set_offsets(points)\n",
    "    sc2.set_offsets(filtered_points)\n",
    "    ax[0].set_title(f'Frame {frame} - Original')\n",
    "    ax[1].set_title(f'Frame {frame} - Filtrado')\n",
    "    return sc1, sc2"
   ]
  },
  {
   "cell_type": "code",
   "execution_count": null,
   "id": "277229ce",
   "metadata": {},
   "outputs": [],
   "source": [
    "anim = FuncAnimation(fig, update, frames=keypoints.shape[0], interval=50, blit=True)\n",
    "HTML(anim.to_jshtml())"
   ]
  },
  {
   "cell_type": "code",
   "execution_count": null,
   "id": "27b795dd",
   "metadata": {},
   "outputs": [],
   "source": [
    "mean_kp = keypoints.mean(axis=0)  # (N, 2)\n",
    "plt.scatter(mean_kp[:, 0], mean_kp[:, 1])\n"
   ]
  },
  {
   "cell_type": "code",
   "execution_count": null,
   "id": "9b254b54",
   "metadata": {},
   "outputs": [],
   "source": [
    "a,b,c  = 100 , 130, 250\n",
    "face_idx = list(range(0, a))           \n",
    "left_hand_idx = list(range(a, b))  \n",
    "right_hand_idx = list(range(b, c))  \n",
    "\n",
    "keypoints = kd[4000][0].clone()\n",
    "frame = keypoints[0]  # (250, 2)\n",
    "plt.scatter(frame[face_idx, 0], frame[face_idx, 1], color='blue', label='Cara')\n",
    "plt.scatter(frame[left_hand_idx, 0], frame[left_hand_idx, 1], color='green', label='Mano Izq')\n",
    "plt.scatter(frame[right_hand_idx, 0], frame[right_hand_idx, 1], color='red', label='Mano Der')\n",
    "plt.legend()\n",
    "# invertir eje Y para que coincida con la convención de coordenadas\n",
    "plt.gca().invert_yaxis()"
   ]
  },
  {
   "cell_type": "markdown",
   "id": "b377fe0e",
   "metadata": {},
   "source": []
  },
  {
   "cell_type": "code",
   "execution_count": null,
   "id": "4a8b23f8",
   "metadata": {},
   "outputs": [],
   "source": []
  }
 ],
 "metadata": {
  "kernelspec": {
   "display_name": "Sign",
   "language": "python",
   "name": "python3"
  },
  "language_info": {
   "codemirror_mode": {
    "name": "ipython",
    "version": 3
   },
   "file_extension": ".py",
   "mimetype": "text/x-python",
   "name": "python",
   "nbconvert_exporter": "python",
   "pygments_lexer": "ipython3",
   "version": "3.11.11"
  }
 },
 "nbformat": 4,
 "nbformat_minor": 5
}
