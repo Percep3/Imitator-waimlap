{
 "cells": [
  {
   "cell_type": "code",
   "execution_count": null,
   "id": "4c94880b",
   "metadata": {},
   "outputs": [],
   "source": [
    "import h5py\n",
    "import torch\n",
    "import numpy as np\n",
    "import matplotlib.pyplot as plt\n",
    "from random import randint\n",
    "\n",
    "from keypoint_dataset import KeypointDataset\n"
   ]
  },
  {
   "cell_type": "code",
   "execution_count": null,
   "id": "8e96f453",
   "metadata": {},
   "outputs": [],
   "source": [
    "\n",
    "# Visualizar keypoints\n",
    "def plot_keypoints(keypoints, title=\"Keypoints\"):\n",
    "    \"\"\"\n",
    "    Función para graficar los keypoints 2D.\n",
    "    keypoints: Tensor de shape (T, N, 2) donde T es el número de frames, N es el número de keypoints y 2 son las coordenadas.\n",
    "    \"\"\"\n",
    "    plt.figure(figsize=(10, 6))\n",
    "    for frame in range(keypoints.shape[0]):  # Iteramos sobre cada frame de la secuencia\n",
    "        plt.plot(keypoints[frame, :, 0].numpy(), keypoints[frame, :, 1].numpy(), 'bo-', alpha=0.6)  # 'bo-' es para dibujar puntos con líneas\n",
    "    plt.title(title)\n",
    "    plt.xlabel(\"X\")\n",
    "    plt.ylabel(\"Y\")\n",
    "    plt.show()\n"
   ]
  },
  {
   "cell_type": "code",
   "execution_count": null,
   "id": "77433a01",
   "metadata": {},
   "outputs": [],
   "source": [
    "datasetPath = \"/home/giorgio6846/Code/Sign-AI/data/dataset1.hdf5\"\n",
    "kd = KeypointDataset(datasetPath, return_label=True, max_length=20000000000)\n"
   ]
  },
  {
   "cell_type": "code",
   "execution_count": null,
   "id": "624da5cf",
   "metadata": {},
   "outputs": [],
   "source": [
    "import matplotlib.pyplot as plt\n",
    "from matplotlib.animation import FuncAnimation\n",
    "from IPython.display import HTML\n",
    "\n",
    "def visualize_augmentation(keypoints, f_keypoint, augmentation_name=\"\"):\n",
    "    \"\"\"\n",
    "    Visualiza la animación de los keypoints originales y los keypoints después de una augmentación.\n",
    "    \n",
    "    Args:\n",
    "    - keypoints: Tensor de shape (T, N, 2) para los keypoints originales.\n",
    "    - f_keypoint: Tensor de shape (T, N, 2) para los keypoints después de aplicar la augmentación.\n",
    "    - augmentation_name: Nombre de la augmentación para mostrar en los títulos.\n",
    "    \"\"\"\n",
    "    fig, ax = plt.subplots(1, 2, figsize=(10, 5))  # ax será ahora un array con 2 elementos\n",
    "    ax[0].set_title(f'Keypoints Originales - {augmentation_name}')\n",
    "    ax[1].set_title(f'Keypoints aumentados - {augmentation_name}')\n",
    "\n",
    "    # Graficar los puntos clave en ambos subgráficos\n",
    "    sc1 = ax[0].scatter(keypoints[0, :, 0], keypoints[0, :, 1], s=10, c='blue', alpha=0.5)\n",
    "    sc2 = ax[1].scatter(f_keypoint[0, :, 0], f_keypoint[0, :, 1], s=10, c='red', alpha=0.5)\n",
    "\n",
    "    # Configuración de la visualización\n",
    "    for a in ax:\n",
    "        a.grid(True)\n",
    "        a.set_aspect('equal')\n",
    "        a.invert_yaxis()  # Invertir eje Y para que coincida con la convención de coordenadas\n",
    "\n",
    "    # Función para actualizar la animación\n",
    "    def update(frame):\n",
    "        points = keypoints[frame]\n",
    "        filtered_points = f_keypoint[frame]\n",
    "        sc1.set_offsets(points)  # Actualizar posiciones de keypoints originales\n",
    "        sc2.set_offsets(filtered_points)  # Actualizar posiciones de keypoints filtrados\n",
    "        ax[0].set_title(f'Frame {frame} - Original')\n",
    "        ax[1].set_title(f'Frame {frame} - Filtrado')\n",
    "        return sc1, sc2\n",
    "\n",
    "    # Crear la animación\n",
    "    anim = FuncAnimation(fig, update, frames=keypoints.shape[0], interval=50, blit=True)\n",
    "\n",
    "    # Mostrar la animación en el notebook\n",
    "    return HTML(anim.to_jshtml())\n",
    "\n",
    "# Llamar a la función con los datos de keypoints antes y después de la augmentación\n",
    "# Ejemplo de uso:\n",
    "# visualizamos los keypoints originales y los filtrados después de aplicar \"Gaussian_jitter\"\n",
    "\n",
    "keypoints = torch.randn(50, 230, 2)  # 50 frames, 230 keypoints, 2 coordenadas (X, Y)\n",
    "f_keypoint = torch.randn(50, 230, 2)  # 50 frames, 230 keypoints, 2 coordenadas (X, Y)\n",
    "\n",
    "visualize_augmentation(keypoints, f_keypoint, augmentation_name=\"Gaussian Jitter\")\n"
   ]
  },
  {
   "cell_type": "code",
   "execution_count": null,
   "id": "a0743bc7",
   "metadata": {},
   "outputs": [],
   "source": [
    "\n",
    "\n",
    "keypoints = kd[3010][0].clone()\n",
    "f_keypoint = kd.gaussian_jitter(keypoints, sigma=0.003, clip=3.0)\n",
    "print(kd[3002][2])  # Imprimir la etiqueta del ejemplo\n",
    "visualize_augmentation(keypoints, f_keypoint, augmentation_name=\"Gaussian Jitter\")\n"
   ]
  },
  {
   "cell_type": "code",
   "execution_count": null,
   "id": "0690fbbd",
   "metadata": {},
   "outputs": [],
   "source": [
    "\n",
    "keypoints = kd[4000][0].clone()\n",
    "f_keypoint = kd.gaussian_jitter(keypoints, sigma=0.003, clip=3.0)\n",
    "\n",
    "visualize_augmentation(keypoints, f_keypoint, augmentation_name=\"Gaussian Jitter\")\n"
   ]
  },
  {
   "cell_type": "code",
   "execution_count": null,
   "id": "57b8b156",
   "metadata": {},
   "outputs": [],
   "source": [
    "f_keypoint = kd.length_variance(keypoints)\n",
    "\n",
    "visualize_augmentation(keypoints, f_keypoint, augmentation_name=\"Length Variance\")"
   ]
  },
  {
   "cell_type": "code",
   "execution_count": null,
   "id": "d7ac0174",
   "metadata": {},
   "outputs": [],
   "source": [
    "\n",
    "#Aplicar augmentación: Rotation 2D\n",
    "f_keypoint = kd.rotation_2D(keypoints)\n",
    "visualize_augmentation(keypoints, f_keypoint, augmentation_name=\"Rotation 2D\")\n"
   ]
  },
  {
   "cell_type": "code",
   "execution_count": null,
   "id": "52c40a40",
   "metadata": {},
   "outputs": [],
   "source": [
    "\n",
    "\n",
    "# Aplicar augmentación: Horizontal Flip\n",
    "f_keypoint = kd.horizontal_flip(keypoints)\n",
    "visualize_augmentation(keypoints, f_keypoint, augmentation_name=\"Horizontal Flip\")\n"
   ]
  },
  {
   "cell_type": "code",
   "execution_count": null,
   "id": "77c0a0c4",
   "metadata": {},
   "outputs": [],
   "source": [
    "\n",
    "# Aplicar augmentación: Scaling\n",
    "f_keypoint = kd.scaling(keypoints)\n",
    "visualize_augmentation(keypoints, f_keypoint, augmentation_name=\"Scaling\")"
   ]
  }
 ],
 "metadata": {
  "kernelspec": {
   "display_name": "Sign",
   "language": "python",
   "name": "python3"
  },
  "language_info": {
   "codemirror_mode": {
    "name": "ipython",
    "version": 3
   },
   "file_extension": ".py",
   "mimetype": "text/x-python",
   "name": "python",
   "nbconvert_exporter": "python",
   "pygments_lexer": "ipython3",
   "version": "3.11.11"
  }
 },
 "nbformat": 4,
 "nbformat_minor": 5
}
