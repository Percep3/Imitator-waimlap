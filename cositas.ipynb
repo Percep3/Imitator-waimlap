{
 "cells": [
  {
   "cell_type": "code",
   "execution_count": 1,
   "id": "6b8c9f44",
   "metadata": {},
   "outputs": [
    {
     "name": "stdout",
     "output_type": "stream",
     "text": [
      "🦥 Unsloth: Will patch your computer to enable 2x faster free finetuning.\n"
     ]
    },
    {
     "name": "stderr",
     "output_type": "stream",
     "text": [
      "/home/giorgio6846/Code/Sign-AI/Sign-Multimodal-Language-Model/.conda/lib/python3.11/site-packages/tqdm/auto.py:21: TqdmWarning: IProgress not found. Please update jupyter and ipywidgets. See https://ipywidgets.readthedocs.io/en/stable/user_install.html\n",
      "  from .autonotebook import tqdm as notebook_tqdm\n"
     ]
    },
    {
     "name": "stdout",
     "output_type": "stream",
     "text": [
      "🦥 Unsloth Zoo will now patch everything to make training faster!\n"
     ]
    }
   ],
   "source": [
    "import torch\n",
    "import torch.nn.functional as F\n",
    "from unsloth import FastLanguageModel"
   ]
  },
  {
   "cell_type": "code",
   "execution_count": 2,
   "id": "ed165919",
   "metadata": {},
   "outputs": [
    {
     "name": "stdout",
     "output_type": "stream",
     "text": [
      "==((====))==  Unsloth 2025.3.19: Fast Llama patching. Transformers: 4.50.3.\n",
      "   \\\\   /|    NVIDIA GeForce RTX 4060 Ti. Num GPUs = 1. Max memory: 15.596 GB. Platform: Linux.\n",
      "O^O/ \\_/ \\    Torch: 2.6.0+cu124. CUDA: 8.9. CUDA Toolkit: 12.4. Triton: 3.2.0\n",
      "\\        /    Bfloat16 = TRUE. FA [Xformers = 0.0.29.post3. FA2 = False]\n",
      " \"-____-\"     Free license: http://github.com/unslothai/unsloth\n",
      "Unsloth: Fast downloading is enabled - ignore downloading bars which are red colored!\n"
     ]
    }
   ],
   "source": [
    "model, tokenizer = FastLanguageModel.from_pretrained(\n",
    "    model_name=\"unsloth/Llama-3.2-3B-Instruct\",\n",
    "    max_seq_length=4096,\n",
    "    dtype=None,\n",
    "    load_in_4bit=True,\n",
    ")"
   ]
  },
  {
   "cell_type": "code",
   "execution_count": 3,
   "id": "738b35d5",
   "metadata": {},
   "outputs": [],
   "source": [
    "target = \"un texto normal como cualquiera\""
   ]
  },
  {
   "cell_type": "code",
   "execution_count": 4,
   "id": "adf4296e",
   "metadata": {},
   "outputs": [
    {
     "data": {
      "text/plain": [
       "tensor([[[4.6253e-05, 3.3617e-05, 1.3855e-02,  ..., 1.2815e-06,\n",
       "          1.2815e-06, 1.2815e-06],\n",
       "         [1.6332e-05, 3.3975e-06, 4.7207e-05,  ..., 5.7975e-08,\n",
       "          5.7975e-08, 5.7975e-08],\n",
       "         [4.4823e-05, 1.5020e-05, 3.4273e-06,  ..., 1.3271e-08,\n",
       "          1.3271e-08, 1.3271e-08],\n",
       "         ...,\n",
       "         [6.7800e-07, 1.8626e-07, 1.8105e-06,  ..., 3.9581e-09,\n",
       "          3.9581e-09, 3.9581e-09],\n",
       "         [1.4435e-08, 1.1548e-07, 8.7917e-07,  ..., 3.2014e-10,\n",
       "          3.2014e-10, 3.2014e-10],\n",
       "         [6.0558e-05, 3.3677e-06, 2.9653e-06,  ..., 5.6461e-09,\n",
       "          5.6461e-09, 5.6461e-09]]], device='cuda:0', dtype=torch.bfloat16)"
      ]
     },
     "execution_count": 4,
     "metadata": {},
     "output_type": "execute_result"
    }
   ],
   "source": [
    "# Obtener los logits del modelo\n",
    "tokenize = tokenizer(target, return_tensors=\"pt\").to(\"cuda\")\n",
    "\n",
    "def get_logits(tokenize_input):\n",
    "    with torch.no_grad():\n",
    "        salidas = model(**tokenize_input)\n",
    "        logits = salidas.logits\n",
    "\n",
    "    log_probs = torch.nn.functional.softmax(logits, dim=-1)\n",
    "    return log_probs\n",
    "\n",
    "logits = get_logits(tokenize)\n",
    "logits"
   ]
  },
  {
   "cell_type": "code",
   "execution_count": 5,
   "id": "e3ee2297",
   "metadata": {},
   "outputs": [
    {
     "data": {
      "text/plain": [
       "tensor([[128000,    359,  33125,   4725,   8112,  28189,    447,  26919]],\n",
       "       device='cuda:0')"
      ]
     },
     "execution_count": 5,
     "metadata": {},
     "output_type": "execute_result"
    }
   ],
   "source": [
    "tokenize[\"input_ids\"]"
   ]
  },
  {
   "cell_type": "code",
   "execution_count": 6,
   "id": "4f2fba1c",
   "metadata": {},
   "outputs": [
    {
     "data": {
      "text/plain": [
       "torch.Size([1, 8, 128256])"
      ]
     },
     "execution_count": 6,
     "metadata": {},
     "output_type": "execute_result"
    }
   ],
   "source": [
    "logits.shape"
   ]
  },
  {
   "cell_type": "code",
   "execution_count": 7,
   "id": "3a22b961",
   "metadata": {},
   "outputs": [],
   "source": [
    "def embeddings_to_text_gpu(embeddings: torch.Tensor, model, tokenizer) -> str:\n",
    "    device = torch.device(\"cuda\" if torch.cuda.is_available() else \"cpu\")\n",
    "    \n",
    "    model.eval()\n",
    "\n",
    "    embeddings = embeddings.to(device)\n",
    "\n",
    "    embedding_layer = model.get_input_embeddings()\n",
    "    embedding_matrix = embedding_layer.weight.to(device)  # [vocab_size, hidden_dim]\n",
    "\n",
    "    embedding_matrix_norm = F.normalize(embedding_matrix, p=2, dim=1)  # [V, D]\n",
    "    print(embedding_matrix_norm.shape)\n",
    "\n",
    "    embeddings_norm = F.normalize(embeddings, p=2, dim=1)  # [T, D]\n",
    "\n",
    "    similarities = torch.matmul(embeddings_norm, embedding_matrix_norm.T)  # [T, V]\n",
    "\n",
    "    token_ids = torch.argmax(similarities, dim=1).tolist()\n",
    "    print(token_ids)\n",
    "\n",
    "    return tokenizer.decode(token_ids, skip_special_tokens=True)"
   ]
  },
  {
   "cell_type": "code",
   "execution_count": 8,
   "id": "29c09086",
   "metadata": {},
   "outputs": [
    {
     "name": "stdout",
     "output_type": "stream",
     "text": [
      "torch.Size([8, 3072])\n",
      "torch.Size([128256, 3072])\n",
      "[128000, 359, 33125, 4725, 8112, 28189, 447, 26919]\n",
      "un texto normal como cualquiera\n"
     ]
    }
   ],
   "source": [
    "input_ids = tokenize[\"input_ids\"].to(\"cuda\")\n",
    "\n",
    "with torch.no_grad():\n",
    "    embeddings = model.get_input_embeddings()(input_ids[0])  # [T, D]\n",
    "    print(embeddings.shape)\n",
    "decoded_text = embeddings_to_text_gpu(embeddings, model, tokenizer)\n",
    "print(decoded_text)"
   ]
  }
 ],
 "metadata": {
  "kernelspec": {
   "display_name": "Python 3",
   "language": "python",
   "name": "python3"
  },
  "language_info": {
   "codemirror_mode": {
    "name": "ipython",
    "version": 3
   },
   "file_extension": ".py",
   "mimetype": "text/x-python",
   "name": "python",
   "nbconvert_exporter": "python",
   "pygments_lexer": "ipython3",
   "version": "3.11.11"
  }
 },
 "nbformat": 4,
 "nbformat_minor": 5
}
