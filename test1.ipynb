{
 "cells": [
  {
   "cell_type": "code",
   "execution_count": 1,
   "id": "9435948a",
   "metadata": {},
   "outputs": [],
   "source": [
    "from src.mslm.utils import create_dataloaders, build_model, run_training, prepare_datasets, ConfigLoader\n",
    "import numpy as np"
   ]
  },
  {
   "cell_type": "code",
   "execution_count": 2,
   "id": "827cc152",
   "metadata": {},
   "outputs": [
    {
     "name": "stdout",
     "output_type": "stream",
     "text": [
      "Train size:\t6768\n",
      "Validation size:\t1691\n"
     ]
    }
   ],
   "source": [
    "train_ratio = 0.8\n",
    "batch_size = 16\n",
    "datasetPath = \"/home/giorgio6846/Code/Sign-AI/data/dataset.hdf5\"\n",
    "\n",
    "tr_ds, val_ds = prepare_datasets(datasetPath, train_ratio)\n",
    "tr_dl, val_dl = create_dataloaders(tr_ds, val_ds, batch_size, num_workers=4)"
   ]
  },
  {
   "cell_type": "code",
   "execution_count": 3,
   "id": "65fa814a",
   "metadata": {},
   "outputs": [
    {
     "name": "stdout",
     "output_type": "stream",
     "text": [
      "4406304.371158392\n"
     ]
    }
   ],
   "source": [
    "index = 0\n",
    "zeros_list = []\n",
    "for keypoints, mask_frames, embeddings, mask_embeddings in tr_dl:\n",
    "    index += 1\n",
    "    \n",
    "    #print(keypoints.shape)\n",
    "    #print(embeddings.shape)\n",
    "\n",
    "    zeros_len = (keypoints == 0).sum().item() \n",
    "    zeros_list.append(zeros_len)\n",
    "\n",
    "print(np.mean(zeros_list))"
   ]
  }
 ],
 "metadata": {
  "kernelspec": {
   "display_name": "Sign",
   "language": "python",
   "name": "python3"
  },
  "language_info": {
   "codemirror_mode": {
    "name": "ipython",
    "version": 3
   },
   "file_extension": ".py",
   "mimetype": "text/x-python",
   "name": "python",
   "nbconvert_exporter": "python",
   "pygments_lexer": "ipython3",
   "version": "3.11.11"
  }
 },
 "nbformat": 4,
 "nbformat_minor": 5
}
